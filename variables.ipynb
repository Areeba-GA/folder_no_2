{
 "cells": [
  {
   "cell_type": "code",
   "execution_count": 5,
   "id": "7c6858e1-4060-4d4d-95fe-81046f9eda00",
   "metadata": {},
   "outputs": [
    {
     "name": "stdout",
     "output_type": "stream",
     "text": [
      "hello my name is jam\n"
     ]
    }
   ],
   "source": [
    "print(\"hello my name is jam\")"
   ]
  },
  {
   "cell_type": "code",
   "execution_count": null,
   "id": "859fa126-09c8-40ec-b330-07e74ea3c914",
   "metadata": {},
   "outputs": [],
   "source": []
  }
 ],
 "metadata": {
  "kernelspec": {
   "display_name": "Python 3 (ipykernel)",
   "language": "python",
   "name": "python3"
  },
  "language_info": {
   "codemirror_mode": {
    "name": "ipython",
    "version": 3
   },
   "file_extension": ".py",
   "mimetype": "text/x-python",
   "name": "python",
   "nbconvert_exporter": "python",
   "pygments_lexer": "ipython3",
   "version": "3.11.7"
  }
 },
 "nbformat": 4,
 "nbformat_minor": 5
}
